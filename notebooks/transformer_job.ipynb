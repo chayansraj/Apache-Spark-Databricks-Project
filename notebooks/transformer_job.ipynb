{
 "cells": [
  {
   "cell_type": "code",
   "execution_count": 0,
   "metadata": {
    "application/vnd.databricks.v1+cell": {
     "cellMetadata": {
      "byteLimit": 2048000,
      "rowLimit": 10000
     },
     "inputWidgets": {},
     "nuid": "fbc82d5c-d4f9-458f-9722-8b559d673f57",
     "showTitle": false,
     "title": ""
    }
   },
   "outputs": [],
   "source": [
    "class Transformer:\n",
    "    def __init__(self):\n",
    "        pass\n",
    "\n",
    "    def transform(self, inputDFs):\n",
    "        pass\n",
    "\n",
    "class driver_race_result_join(Transformer):\n",
    "\n",
    "    def table_join(self, input_Dfs):\n",
    "        \"\"\"\n",
    "        Join drivers, races and results table and selecting relevant columns\n",
    "        \"\"\"\n",
    "\n",
    "        driver_df = input_Dfs.get('drivers')\n",
    "        races_df = input_Dfs.get('races')\n",
    "        results_df = input_Dfs.get('results')\n",
    "\n",
    "        print('Run Start')\n",
    "\n",
    "        result_race_join = results_df.join(races_df, on = 'raceId')\n",
    "        all_join = result_race_join.join(driver_df, on = ['driverId'])\n",
    "\n",
    "        all_join.select('driverId', 'raceId', 'driverRef', 'forename', 'surname', 'nationality', 'year', 'name', 'date', 'grid',  'position',  'positionText', 'positionOrder', 'points').show(20)\n",
    "\n",
    "        print('Run Complete')\n"
   ]
  },
  {
   "cell_type": "code",
   "execution_count": 0,
   "metadata": {
    "application/vnd.databricks.v1+cell": {
     "cellMetadata": {},
     "inputWidgets": {},
     "nuid": "a87da428-bc74-4b3b-a11a-645b776d4253",
     "showTitle": false,
     "title": ""
    }
   },
   "outputs": [],
   "source": []
  }
 ],
 "metadata": {
  "application/vnd.databricks.v1+notebook": {
   "dashboards": [],
   "environmentMetadata": null,
   "language": "python",
   "notebookMetadata": {
    "pythonIndentUnit": 4
   },
   "notebookName": "transformer_job",
   "widgets": {}
  }
 },
 "nbformat": 4,
 "nbformat_minor": 0
}
