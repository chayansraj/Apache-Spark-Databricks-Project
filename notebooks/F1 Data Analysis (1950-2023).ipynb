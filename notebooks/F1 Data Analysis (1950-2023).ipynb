{
 "cells": [
  {
   "cell_type": "code",
   "execution_count": 0,
   "metadata": {
    "application/vnd.databricks.v1+cell": {
     "cellMetadata": {
      "byteLimit": 2048000,
      "rowLimit": 10000
     },
     "inputWidgets": {},
     "nuid": "1c81f748-fe81-4995-b173-690949fcfd42",
     "showTitle": false,
     "title": ""
    }
   },
   "outputs": [],
   "source": [
    "from pyspark.sql import SparkSession\n",
    "from pyspark.sql import Window\n",
    "from pyspark.sql.functions import row_number\n",
    "from pyspark.sql import functions as func\n",
    "\n",
    "sparkSess = SparkSession.builder.appName('F1Analysis').getOrCreate()\n",
    "\n",
    "input_df = sparkSess.read.format('csv').option('header',True).load('dbfs:/FileStore/tables/drivers.csv')\n",
    "\n"
   ]
  },
  {
   "cell_type": "code",
   "execution_count": 0,
   "metadata": {
    "application/vnd.databricks.v1+cell": {
     "cellMetadata": {
      "byteLimit": 2048000,
      "rowLimit": 10000
     },
     "inputWidgets": {},
     "nuid": "4c91f4c7-1e6f-47ea-a754-70350cb8f7c5",
     "showTitle": false,
     "title": ""
    }
   },
   "outputs": [
    {
     "output_type": "stream",
     "name": "stdout",
     "output_type": "stream",
     "text": [
      "+--------+----------+------+----+---------+----------+----------+-----------+--------------------+\n|driverId| driverRef|number|code| forename|   surname|       dob|nationality|                 url|\n+--------+----------+------+----+---------+----------+----------+-----------+--------------------+\n|       1|  hamilton|    44| HAM|    Lewis|  Hamilton|1985-01-07|    British|http://en.wikiped...|\n|       2|  heidfeld|    \\N| HEI|     Nick|  Heidfeld|1977-05-10|     German|http://en.wikiped...|\n|       3|   rosberg|     6| ROS|     Nico|   Rosberg|1985-06-27|     German|http://en.wikiped...|\n|       4|    alonso|    14| ALO| Fernando|    Alonso|1981-07-29|    Spanish|http://en.wikiped...|\n|       5|kovalainen|    \\N| KOV|   Heikki|Kovalainen|1981-10-19|    Finnish|http://en.wikiped...|\n|       6|  nakajima|    \\N| NAK|   Kazuki|  Nakajima|1985-01-11|   Japanese|http://en.wikiped...|\n|       7|  bourdais|    \\N| BOU|Sébastien|  Bourdais|1979-02-28|     French|http://en.wikiped...|\n|       8| raikkonen|     7| RAI|     Kimi| Räikkönen|1979-10-17|    Finnish|http://en.wikiped...|\n|       9|    kubica|    88| KUB|   Robert|    Kubica|1984-12-07|     Polish|http://en.wikiped...|\n|      10|     glock|    \\N| GLO|     Timo|     Glock|1982-03-18|     German|http://en.wikiped...|\n+--------+----------+------+----+---------+----------+----------+-----------+--------------------+\nonly showing top 10 rows\n\nOut[22]: ['driverId',\n 'driverRef',\n 'number',\n 'code',\n 'forename',\n 'surname',\n 'dob',\n 'nationality',\n 'url']"
     ]
    }
   ],
   "source": [
    "driver_df = sparkSess.read.format('csv').option('header',True).load('dbfs:/FileStore/tables/drivers.csv')\n",
    "driver_df.show(10)\n",
    "driver_df.columns"
   ]
  },
  {
   "cell_type": "code",
   "execution_count": 0,
   "metadata": {
    "application/vnd.databricks.v1+cell": {
     "cellMetadata": {
      "byteLimit": 2048000,
      "rowLimit": 10000
     },
     "inputWidgets": {},
     "nuid": "d53745b8-414e-4746-8e5d-8112dd2df38f",
     "showTitle": false,
     "title": ""
    }
   },
   "outputs": [],
   "source": [
    "races_df = sparkSess.read.format('csv').option('header',True).load('dbfs:/FileStore/tables/races.csv')\n"
   ]
  },
  {
   "cell_type": "code",
   "execution_count": 0,
   "metadata": {
    "application/vnd.databricks.v1+cell": {
     "cellMetadata": {
      "byteLimit": 2048000,
      "rowLimit": 10000
     },
     "inputWidgets": {},
     "nuid": "ce137b85-2e11-4155-8be7-6a56791d31cc",
     "showTitle": false,
     "title": ""
    }
   },
   "outputs": [
    {
     "output_type": "stream",
     "name": "stdout",
     "output_type": "stream",
     "text": [
      "+------+----+-----+---------+--------------------+----------+--------+--------------------+--------+--------+--------+--------+--------+--------+----------+----------+-----------+-----------+\n|raceId|year|round|circuitId|                name|      date|    time|                 url|fp1_date|fp1_time|fp2_date|fp2_time|fp3_date|fp3_time|quali_date|quali_time|sprint_date|sprint_time|\n+------+----+-----+---------+--------------------+----------+--------+--------------------+--------+--------+--------+--------+--------+--------+----------+----------+-----------+-----------+\n|     1|2009|    1|        1|Australian Grand ...|2009-03-29|06:00:00|http://en.wikiped...|      \\N|      \\N|      \\N|      \\N|      \\N|      \\N|        \\N|        \\N|         \\N|         \\N|\n|     2|2009|    2|        2|Malaysian Grand Prix|2009-04-05|09:00:00|http://en.wikiped...|      \\N|      \\N|      \\N|      \\N|      \\N|      \\N|        \\N|        \\N|         \\N|         \\N|\n|     3|2009|    3|       17|  Chinese Grand Prix|2009-04-19|07:00:00|http://en.wikiped...|      \\N|      \\N|      \\N|      \\N|      \\N|      \\N|        \\N|        \\N|         \\N|         \\N|\n|     4|2009|    4|        3|  Bahrain Grand Prix|2009-04-26|12:00:00|http://en.wikiped...|      \\N|      \\N|      \\N|      \\N|      \\N|      \\N|        \\N|        \\N|         \\N|         \\N|\n|     5|2009|    5|        4|  Spanish Grand Prix|2009-05-10|12:00:00|http://en.wikiped...|      \\N|      \\N|      \\N|      \\N|      \\N|      \\N|        \\N|        \\N|         \\N|         \\N|\n|     6|2009|    6|        6|   Monaco Grand Prix|2009-05-24|12:00:00|http://en.wikiped...|      \\N|      \\N|      \\N|      \\N|      \\N|      \\N|        \\N|        \\N|         \\N|         \\N|\n|     7|2009|    7|        5|  Turkish Grand Prix|2009-06-07|12:00:00|http://en.wikiped...|      \\N|      \\N|      \\N|      \\N|      \\N|      \\N|        \\N|        \\N|         \\N|         \\N|\n|     8|2009|    8|        9|  British Grand Prix|2009-06-21|12:00:00|http://en.wikiped...|      \\N|      \\N|      \\N|      \\N|      \\N|      \\N|        \\N|        \\N|         \\N|         \\N|\n|     9|2009|    9|       20|   German Grand Prix|2009-07-12|12:00:00|http://en.wikiped...|      \\N|      \\N|      \\N|      \\N|      \\N|      \\N|        \\N|        \\N|         \\N|         \\N|\n|    10|2009|   10|       11|Hungarian Grand Prix|2009-07-26|12:00:00|http://en.wikiped...|      \\N|      \\N|      \\N|      \\N|      \\N|      \\N|        \\N|        \\N|         \\N|         \\N|\n|    11|2009|   11|       12| European Grand Prix|2009-08-23|12:00:00|http://en.wikiped...|      \\N|      \\N|      \\N|      \\N|      \\N|      \\N|        \\N|        \\N|         \\N|         \\N|\n|    12|2009|   12|       13|  Belgian Grand Prix|2009-08-30|12:00:00|http://en.wikiped...|      \\N|      \\N|      \\N|      \\N|      \\N|      \\N|        \\N|        \\N|         \\N|         \\N|\n|    13|2009|   13|       14|  Italian Grand Prix|2009-09-13|12:00:00|http://en.wikiped...|      \\N|      \\N|      \\N|      \\N|      \\N|      \\N|        \\N|        \\N|         \\N|         \\N|\n|    14|2009|   14|       15|Singapore Grand Prix|2009-09-27|12:00:00|http://en.wikiped...|      \\N|      \\N|      \\N|      \\N|      \\N|      \\N|        \\N|        \\N|         \\N|         \\N|\n|    15|2009|   15|       22| Japanese Grand Prix|2009-10-04|05:00:00|http://en.wikiped...|      \\N|      \\N|      \\N|      \\N|      \\N|      \\N|        \\N|        \\N|         \\N|         \\N|\n|    16|2009|   16|       18|Brazilian Grand Prix|2009-10-18|16:00:00|http://en.wikiped...|      \\N|      \\N|      \\N|      \\N|      \\N|      \\N|        \\N|        \\N|         \\N|         \\N|\n|    17|2009|   17|       24|Abu Dhabi Grand Prix|2009-11-01|11:00:00|http://en.wikiped...|      \\N|      \\N|      \\N|      \\N|      \\N|      \\N|        \\N|        \\N|         \\N|         \\N|\n|    18|2008|    1|        1|Australian Grand ...|2008-03-16|04:30:00|http://en.wikiped...|      \\N|      \\N|      \\N|      \\N|      \\N|      \\N|        \\N|        \\N|         \\N|         \\N|\n|    19|2008|    2|        2|Malaysian Grand Prix|2008-03-23|07:00:00|http://en.wikiped...|      \\N|      \\N|      \\N|      \\N|      \\N|      \\N|        \\N|        \\N|         \\N|         \\N|\n|    20|2008|    3|        3|  Bahrain Grand Prix|2008-04-06|11:30:00|http://en.wikiped...|      \\N|      \\N|      \\N|      \\N|      \\N|      \\N|        \\N|        \\N|         \\N|         \\N|\n+------+----+-----+---------+--------------------+----------+--------+--------------------+--------+--------+--------+--------+--------+--------+----------+----------+-----------+-----------+\nonly showing top 20 rows\n\n"
     ]
    }
   ],
   "source": [
    "races_df.show(20)"
   ]
  },
  {
   "cell_type": "code",
   "execution_count": 0,
   "metadata": {
    "application/vnd.databricks.v1+cell": {
     "cellMetadata": {
      "byteLimit": 2048000,
      "rowLimit": 10000
     },
     "inputWidgets": {},
     "nuid": "5890f7a7-9037-49ae-801e-ff57feedc6a3",
     "showTitle": false,
     "title": ""
    }
   },
   "outputs": [],
   "source": [
    "results_df = sparkSess.read.format('csv').option('header',True).load('dbfs:/FileStore/tables/results.csv')"
   ]
  },
  {
   "cell_type": "code",
   "execution_count": 0,
   "metadata": {
    "application/vnd.databricks.v1+cell": {
     "cellMetadata": {
      "byteLimit": 2048000,
      "rowLimit": 10000
     },
     "inputWidgets": {},
     "nuid": "7c7fcd02-212f-465d-b45e-717f035a920e",
     "showTitle": false,
     "title": ""
    }
   },
   "outputs": [
    {
     "output_type": "stream",
     "name": "stdout",
     "output_type": "stream",
     "text": [
      "+--------+------+--------+-------------+------+----+--------+------------+-------------+------+----+-----------+------------+----------+----+--------------+---------------+--------+\n|resultId|raceId|driverId|constructorId|number|grid|position|positionText|positionOrder|points|laps|       time|milliseconds|fastestLap|rank|fastestLapTime|fastestLapSpeed|statusId|\n+--------+------+--------+-------------+------+----+--------+------------+-------------+------+----+-----------+------------+----------+----+--------------+---------------+--------+\n|       1|    18|       1|            1|    22|   1|       1|           1|            1|    10|  58|1:34:50.616|     5690616|        39|   2|      1:27.452|        218.300|       1|\n|       2|    18|       2|            2|     3|   5|       2|           2|            2|     8|  58|     +5.478|     5696094|        41|   3|      1:27.739|        217.586|       1|\n|       3|    18|       3|            3|     7|   7|       3|           3|            3|     6|  58|     +8.163|     5698779|        41|   5|      1:28.090|        216.719|       1|\n|       4|    18|       4|            4|     5|  11|       4|           4|            4|     5|  58|    +17.181|     5707797|        58|   7|      1:28.603|        215.464|       1|\n|       5|    18|       5|            1|    23|   3|       5|           5|            5|     4|  58|    +18.014|     5708630|        43|   1|      1:27.418|        218.385|       1|\n|       6|    18|       6|            3|     8|  13|       6|           6|            6|     3|  57|         \\N|          \\N|        50|  14|      1:29.639|        212.974|      11|\n|       7|    18|       7|            5|    14|  17|       7|           7|            7|     2|  55|         \\N|          \\N|        22|  12|      1:29.534|        213.224|       5|\n|       8|    18|       8|            6|     1|  15|       8|           8|            8|     1|  53|         \\N|          \\N|        20|   4|      1:27.903|        217.180|       5|\n|       9|    18|       9|            2|     4|   2|      \\N|           R|            9|     0|  47|         \\N|          \\N|        15|   9|      1:28.753|        215.100|       4|\n|      10|    18|      10|            7|    12|  18|      \\N|           R|           10|     0|  43|         \\N|          \\N|        23|  13|      1:29.558|        213.166|       3|\n|      11|    18|      11|            8|    18|  19|      \\N|           R|           11|     0|  32|         \\N|          \\N|        24|  15|      1:30.892|        210.038|       7|\n|      12|    18|      12|            4|     6|  20|      \\N|           R|           12|     0|  30|         \\N|          \\N|        20|  16|      1:31.384|        208.907|       8|\n|      13|    18|      13|            6|     2|   4|      \\N|           R|           13|     0|  29|         \\N|          \\N|        23|   6|      1:28.175|        216.510|       5|\n|      14|    18|      14|            9|     9|   8|      \\N|           R|           14|     0|  25|         \\N|          \\N|        21|  11|      1:29.502|        213.300|       4|\n|      15|    18|      15|            7|    11|   6|      \\N|           R|           15|     0|  19|         \\N|          \\N|        18|  10|      1:29.310|        213.758|      10|\n|      16|    18|      16|           10|    20|  22|      \\N|           R|           16|     0|   8|         \\N|          \\N|         8|  17|      1:32.021|        207.461|       9|\n|      17|    18|      17|            9|    10|  14|      \\N|           R|           17|     0|   0|         \\N|          \\N|        \\N|  \\N|            \\N|             \\N|       4|\n|      18|    18|      18|           11|    16|  12|      \\N|           R|           18|     0|   0|         \\N|          \\N|        \\N|  \\N|            \\N|             \\N|       4|\n|      19|    18|      19|            8|    19|  21|      \\N|           R|           19|     0|   0|         \\N|          \\N|        \\N|  \\N|            \\N|             \\N|       4|\n|      20|    18|      20|            5|    15|   9|      \\N|           R|           20|     0|   0|         \\N|          \\N|        \\N|  \\N|            \\N|             \\N|       4|\n|      21|    18|      21|           10|    21|  16|      \\N|           R|           21|     0|   0|         \\N|          \\N|        \\N|  \\N|            \\N|             \\N|       4|\n|      22|    18|      22|           11|    17|  10|      \\N|           D|           22|     0|  58|         \\N|          \\N|        44|   8|      1:28.736|        215.141|       2|\n|      23|    19|       8|            6|     1|   2|       1|           1|            1|    10|  56|1:31:18.555|     5478555|        37|   2|      1:35.405|        209.158|       1|\n|      24|    19|       9|            2|     4|   4|       2|           2|            2|     8|  56|    +19.570|     5498125|        39|   6|      1:35.921|        208.033|       1|\n|      25|    19|       5|            1|    23|   8|       3|           3|            3|     6|  56|    +38.450|     5517005|        19|   7|      1:35.922|        208.031|       1|\n|      26|    19|      15|            7|    11|   3|       4|           4|            4|     5|  56|    +45.832|     5524387|        53|   8|      1:36.068|        207.715|       1|\n|      27|    19|       1|            1|    22|   9|       5|           5|            5|     4|  56|    +46.548|     5525103|        53|   3|      1:35.462|        209.033|       1|\n|      28|    19|       2|            2|     3|   5|       6|           6|            6|     3|  56|    +49.833|     5528388|        55|   1|      1:35.366|        209.244|       1|\n|      29|    19|      17|            9|    10|   6|       7|           7|            7|     2|  56|  +1:08.130|     5546685|        53|  12|      1:36.696|        206.366|       1|\n|      30|    19|       4|            4|     5|   7|       8|           8|            8|     1|  56|  +1:10.041|     5548596|        40|  10|      1:36.288|        207.240|       1|\n|      31|    19|      14|            9|     9|  12|       9|           9|            9|     0|  56|  +1:16.220|     5554775|        55|   9|      1:36.206|        207.417|       1|\n|      32|    19|      18|           11|    16|  11|      10|          10|           10|     0|  56|  +1:26.214|     5564769|        56|   4|      1:35.715|        208.481|       1|\n|      33|    19|      12|            4|     6|  13|      11|          11|           11|     0|  56|  +1:32.202|     5570757|        52|  15|      1:36.956|        205.812|       1|\n|      34|    19|      21|           10|    21|  17|      12|          12|           12|     0|  55|         \\N|          \\N|        52|  16|      1:36.962|        205.800|      11|\n|      35|    19|      22|           11|    17|  14|      13|          13|           13|     0|  55|         \\N|          \\N|        55|  11|      1:36.693|        206.372|      11|\n|      36|    19|       3|            3|     7|  16|      14|          14|           14|     0|  55|         \\N|          \\N|        55|  13|      1:36.782|        206.182|      11|\n|      37|    19|      19|            8|    19|  21|      15|          15|           15|     0|  55|         \\N|          \\N|        55|  18|      1:38.171|        203.265|      11|\n|      38|    19|      11|            8|    18|  19|      16|          16|           16|     0|  54|         \\N|          \\N|        53|  19|      1:38.504|        202.578|      12|\n|      39|    19|       6|            3|     8|  22|      17|          17|           17|     0|  54|         \\N|          \\N|        19|  17|      1:37.711|        204.222|      12|\n|      40|    19|      20|            5|    15|  15|      \\N|           R|           18|     0|  39|         \\N|          \\N|        37|  14|      1:36.870|        205.995|       5|\n|      41|    19|      13|            6|     2|   1|      \\N|           R|           19|     0|  30|         \\N|          \\N|        15|   5|      1:35.914|        208.048|      20|\n|      42|    19|      16|           10|    20|  20|      \\N|           R|           20|     0|   5|         \\N|          \\N|         3|  20|      1:40.330|        198.891|       9|\n|      43|    19|      10|            7|    12|  10|      \\N|           R|           21|     0|   1|         \\N|          \\N|        \\N|  \\N|            \\N|             \\N|       4|\n|      44|    19|       7|            5|    14|  18|      \\N|           R|           22|     0|   0|         \\N|          \\N|        \\N|  \\N|            \\N|             \\N|      20|\n|      45|    20|      13|            6|     2|   2|       1|           1|            1|    10|  57|1:31:06.970|     5466970|        38|   3|      1:33.600|        208.153|       1|\n|      46|    20|       8|            6|     1|   4|       2|           2|            2|     8|  57|     +3.339|     5470309|        35|   4|      1:33.709|        207.911|       1|\n|      47|    20|       9|            2|     4|   1|       3|           3|            3|     6|  57|     +4.998|     5471968|        55|   5|      1:33.775|        207.765|       1|\n|      48|    20|       2|            2|     3|   6|       4|           4|            4|     5|  57|     +8.409|     5475379|        48|   2|      1:33.565|        208.231|       1|\n|      49|    20|       5|            1|    23|   5|       5|           5|            5|     4|  57|    +26.789|     5493759|        49|   1|      1:33.193|        209.062|       1|\n|      50|    20|      15|            7|    11|   7|       6|           6|            6|     3|  57|    +41.314|     5508284|        45|   7|      1:34.204|        206.819|       1|\n+--------+------+--------+-------------+------+----+--------+------------+-------------+------+----+-----------+------------+----------+----+--------------+---------------+--------+\nonly showing top 50 rows\n\nOut[24]: ['resultId',\n 'raceId',\n 'driverId',\n 'constructorId',\n 'number',\n 'grid',\n 'position',\n 'positionText',\n 'positionOrder',\n 'points',\n 'laps',\n 'time',\n 'milliseconds',\n 'fastestLap',\n 'rank',\n 'fastestLapTime',\n 'fastestLapSpeed',\n 'statusId']"
     ]
    }
   ],
   "source": [
    "results_df.show(50)\n",
    "results_df.columns"
   ]
  },
  {
   "cell_type": "code",
   "execution_count": 0,
   "metadata": {
    "application/vnd.databricks.v1+cell": {
     "cellMetadata": {
      "byteLimit": 2048000,
      "rowLimit": 10000
     },
     "inputWidgets": {},
     "nuid": "18bc4f71-0593-4878-933c-38a7b7d44830",
     "showTitle": false,
     "title": ""
    }
   },
   "outputs": [],
   "source": [
    "%run \"./reader_class\""
   ]
  },
  {
   "cell_type": "code",
   "execution_count": 0,
   "metadata": {
    "application/vnd.databricks.v1+cell": {
     "cellMetadata": {
      "byteLimit": 2048000,
      "rowLimit": 10000
     },
     "inputWidgets": {},
     "nuid": "2b3f2d2c-037f-4c80-a640-512ca614cb4f",
     "showTitle": false,
     "title": ""
    }
   },
   "outputs": [],
   "source": [
    "%run \"./transformer_job\""
   ]
  },
  {
   "cell_type": "code",
   "execution_count": 0,
   "metadata": {
    "application/vnd.databricks.v1+cell": {
     "cellMetadata": {
      "byteLimit": 2048000,
      "rowLimit": 10000
     },
     "inputWidgets": {},
     "nuid": "9bc89042-bb36-4aea-b982-647c08e8402c",
     "showTitle": false,
     "title": ""
    }
   },
   "outputs": [],
   "source": [
    "class workFlow:\n",
    "    def __init__(self):\n",
    "        pass\n",
    "\n",
    "    def runner(self):\n",
    "\n",
    "        driver_data = load_data_source(\n",
    "            data_type = \"csv\",\n",
    "            file_path = 'dbfs:/FileStore/tables/drivers.csv'\n",
    "        ).get_data_frame()\n",
    "\n",
    "        race_data = load_data_source(\n",
    "            data_type = \"csv\",\n",
    "            file_path = 'dbfs:/FileStore/tables/races.csv'\n",
    "        ).get_data_frame()\n",
    "\n",
    "        result_data = load_data_source(\n",
    "            data_type = \"csv\",\n",
    "            file_path = 'dbfs:/FileStore/tables/results.csv'\n",
    "        ).get_data_frame()\n",
    "\n",
    "\n",
    "        # Top 5 Drivers who had won 5 consecutive races in year 2012. We need to join 3 tables for this: drivers, races and results.\n",
    "        input_Dfs = {\"drivers\": driver_data, \n",
    "                     \"races\": race_data,\n",
    "                     \"results\":result_data}\n",
    "        \n",
    "\n",
    "        return driver_race_result_join().table_join(input_Dfs)\n",
    "        \n",
    "workflow = workFlow()"
   ]
  },
  {
   "cell_type": "code",
   "execution_count": 0,
   "metadata": {
    "application/vnd.databricks.v1+cell": {
     "cellMetadata": {
      "byteLimit": 2048000,
      "rowLimit": 10000
     },
     "inputWidgets": {},
     "nuid": "95e2265c-e65a-48bb-97f1-efa4c34141db",
     "showTitle": false,
     "title": ""
    }
   },
   "outputs": [
    {
     "output_type": "stream",
     "name": "stdout",
     "output_type": "stream",
     "text": [
      "Run Start\n"
     ]
    }
   ],
   "source": [
    "result_df = workflow.runner()"
   ]
  },
  {
   "cell_type": "code",
   "execution_count": 0,
   "metadata": {
    "application/vnd.databricks.v1+cell": {
     "cellMetadata": {
      "byteLimit": 2048000,
      "rowLimit": 10000
     },
     "inputWidgets": {},
     "nuid": "0bf80dc4-458a-46e4-8a0d-efb70bc6e76c",
     "showTitle": false,
     "title": ""
    }
   },
   "outputs": [
    {
     "output_type": "stream",
     "name": "stdout",
     "output_type": "stream",
     "text": [
      "+--------+------+----------+---------+----------+-----------+----+--------------------+----------+----+--------+------------+-------------+------+\n|driverId|raceId| driverRef| forename|   surname|nationality|year|                name|      date|grid|position|positionText|positionOrder|points|\n+--------+------+----------+---------+----------+-----------+----+--------------------+----------+----+--------+------------+-------------+------+\n|       1|    18|  hamilton|    Lewis|  Hamilton|    British|2008|Australian Grand ...|2008-03-16|   1|       1|           1|            1|    10|\n|       2|    18|  heidfeld|     Nick|  Heidfeld|     German|2008|Australian Grand ...|2008-03-16|   5|       2|           2|            2|     8|\n|       3|    18|   rosberg|     Nico|   Rosberg|     German|2008|Australian Grand ...|2008-03-16|   7|       3|           3|            3|     6|\n|       4|    18|    alonso| Fernando|    Alonso|    Spanish|2008|Australian Grand ...|2008-03-16|  11|       4|           4|            4|     5|\n|       5|    18|kovalainen|   Heikki|Kovalainen|    Finnish|2008|Australian Grand ...|2008-03-16|   3|       5|           5|            5|     4|\n|       6|    18|  nakajima|   Kazuki|  Nakajima|   Japanese|2008|Australian Grand ...|2008-03-16|  13|       6|           6|            6|     3|\n|       7|    18|  bourdais|Sébastien|  Bourdais|     French|2008|Australian Grand ...|2008-03-16|  17|       7|           7|            7|     2|\n|       8|    18| raikkonen|     Kimi| Räikkönen|    Finnish|2008|Australian Grand ...|2008-03-16|  15|       8|           8|            8|     1|\n|       9|    18|    kubica|   Robert|    Kubica|     Polish|2008|Australian Grand ...|2008-03-16|   2|      \\N|           R|            9|     0|\n|      10|    18|     glock|     Timo|     Glock|     German|2008|Australian Grand ...|2008-03-16|  18|      \\N|           R|           10|     0|\n|      11|    18|      sato|   Takuma|      Sato|   Japanese|2008|Australian Grand ...|2008-03-16|  19|      \\N|           R|           11|     0|\n|      12|    18| piquet_jr|   Nelson|Piquet Jr.|  Brazilian|2008|Australian Grand ...|2008-03-16|  20|      \\N|           R|           12|     0|\n|      13|    18|     massa|   Felipe|     Massa|  Brazilian|2008|Australian Grand ...|2008-03-16|   4|      \\N|           R|           13|     0|\n|      14|    18| coulthard|    David| Coulthard|    British|2008|Australian Grand ...|2008-03-16|   8|      \\N|           R|           14|     0|\n|      15|    18|    trulli|    Jarno|    Trulli|    Italian|2008|Australian Grand ...|2008-03-16|   6|      \\N|           R|           15|     0|\n|      16|    18|     sutil|   Adrian|     Sutil|     German|2008|Australian Grand ...|2008-03-16|  22|      \\N|           R|           16|     0|\n|      17|    18|    webber|     Mark|    Webber| Australian|2008|Australian Grand ...|2008-03-16|  14|      \\N|           R|           17|     0|\n|      18|    18|    button|   Jenson|    Button|    British|2008|Australian Grand ...|2008-03-16|  12|      \\N|           R|           18|     0|\n|      19|    18|  davidson|  Anthony|  Davidson|    British|2008|Australian Grand ...|2008-03-16|  21|      \\N|           R|           19|     0|\n|      20|    18|    vettel|Sebastian|    Vettel|     German|2008|Australian Grand ...|2008-03-16|   9|      \\N|           R|           20|     0|\n+--------+------+----------+---------+----------+-----------+----+--------------------+----------+----+--------+------------+-------------+------+\nonly showing top 20 rows\n\n"
     ]
    }
   ],
   "source": [
    "result_df.show()"
   ]
  },
  {
   "cell_type": "code",
   "execution_count": 0,
   "metadata": {
    "application/vnd.databricks.v1+cell": {
     "cellMetadata": {
      "byteLimit": 2048000,
      "rowLimit": 10000
     },
     "inputWidgets": {},
     "nuid": "d5612aa6-a4d3-4195-ac64-741c45d1cb50",
     "showTitle": false,
     "title": ""
    }
   },
   "outputs": [
    {
     "output_type": "stream",
     "name": "stdout",
     "output_type": "stream",
     "text": [
      "+--------+------+------------------+---------+----------+-----------+----+--------------------+----------+----+--------+------------+-------------+------+\n|driverId|raceId|         driverRef| forename|   surname|nationality|year|                name|      date|grid|position|positionText|positionOrder|points|\n+--------+------+------------------+---------+----------+-----------+----+--------------------+----------+----+--------+------------+-------------+------+\n|      18|   860|            button|   Jenson|    Button|    British|2012|Australian Grand ...|2012-03-18|   2|       1|           1|            1|    25|\n|      20|   860|            vettel|Sebastian|    Vettel|     German|2012|Australian Grand ...|2012-03-18|   6|       2|           2|            2|    18|\n|       1|   860|          hamilton|    Lewis|  Hamilton|    British|2012|Australian Grand ...|2012-03-18|   1|       3|           3|            3|    15|\n|      17|   860|            webber|     Mark|    Webber| Australian|2012|Australian Grand ...|2012-03-18|   5|       4|           4|            4|    12|\n|       4|   860|            alonso| Fernando|    Alonso|    Spanish|2012|Australian Grand ...|2012-03-18|  12|       5|           5|            5|    10|\n|     155|   860|         kobayashi|    Kamui| Kobayashi|   Japanese|2012|Australian Grand ...|2012-03-18|  13|       6|           6|            6|     8|\n|       8|   860|         raikkonen|     Kimi| Räikkönen|    Finnish|2012|Australian Grand ...|2012-03-18|  17|       7|           7|            7|     6|\n|     815|   860|             perez|   Sergio|     Pérez|    Mexican|2012|Australian Grand ...|2012-03-18|  22|       8|           8|            8|     4|\n|     817|   860|         ricciardo|   Daniel| Ricciardo| Australian|2012|Australian Grand ...|2012-03-18|  10|       9|           9|            9|     2|\n|     814|   860|             resta|     Paul|  di Resta|    British|2012|Australian Grand ...|2012-03-18|  15|      10|          10|           10|     1|\n|     818|   860|            vergne|Jean-Éric|    Vergne|     French|2012|Australian Grand ...|2012-03-18|  11|      11|          11|           11|     0|\n|       3|   860|           rosberg|     Nico|   Rosberg|     German|2012|Australian Grand ...|2012-03-18|   7|      12|          12|           12|     0|\n|     813|   860|         maldonado|   Pastor| Maldonado| Venezuelan|2012|Australian Grand ...|2012-03-18|   8|      13|          13|           13|     0|\n|      10|   860|             glock|     Timo|     Glock|     German|2012|Australian Grand ...|2012-03-18|  20|      14|          14|           14|     0|\n|     819|   860|               pic|  Charles|       Pic|     French|2012|Australian Grand ...|2012-03-18|  21|      15|          15|           15|     0|\n|     811|   860|       bruno_senna|    Bruno|     Senna|  Brazilian|2012|Australian Grand ...|2012-03-18|  14|      16|          16|           16|     0|\n|      13|   860|             massa|   Felipe|     Massa|  Brazilian|2012|Australian Grand ...|2012-03-18|  16|      \\N|           R|           17|     0|\n|       5|   860|        kovalainen|   Heikki|Kovalainen|    Finnish|2012|Australian Grand ...|2012-03-18|  18|      \\N|           R|           18|     0|\n|     808|   860|            petrov|   Vitaly|    Petrov|    Russian|2012|Australian Grand ...|2012-03-18|  19|      \\N|           R|           19|     0|\n|      30|   860|michael_schumacher|  Michael|Schumacher|     German|2012|Australian Grand ...|2012-03-18|   4|      \\N|           R|           20|     0|\n+--------+------+------------------+---------+----------+-----------+----+--------------------+----------+----+--------+------------+-------------+------+\nonly showing top 20 rows\n\n"
     ]
    }
   ],
   "source": [
    "result_df.filter(result_df.year == 2012).show()"
   ]
  },
  {
   "cell_type": "code",
   "execution_count": 0,
   "metadata": {
    "application/vnd.databricks.v1+cell": {
     "cellMetadata": {
      "byteLimit": 2048000,
      "rowLimit": 10000
     },
     "inputWidgets": {},
     "nuid": "2dd0efb8-d956-450b-9c5a-ecbbab5fa570",
     "showTitle": false,
     "title": ""
    }
   },
   "outputs": [
    {
     "output_type": "stream",
     "name": "stdout",
     "output_type": "stream",
     "text": [
      "+------+\n|raceId|\n+------+\n|   860|\n|   860|\n|   860|\n|   860|\n|   860|\n|   860|\n|   860|\n|   860|\n|   860|\n|   860|\n|   860|\n|   860|\n|   860|\n|   860|\n|   860|\n|   860|\n|   860|\n|   860|\n|   860|\n|   860|\n|   860|\n|   860|\n|   860|\n|   860|\n|   861|\n|   861|\n|   861|\n|   861|\n|   861|\n|   861|\n|   861|\n|   861|\n|   861|\n|   861|\n|   861|\n|   861|\n|   861|\n|   861|\n|   861|\n|   861|\n|   861|\n|   861|\n|   861|\n|   861|\n|   861|\n|   861|\n|   861|\n|   861|\n|   862|\n|   862|\n+------+\nonly showing top 50 rows\n\n"
     ]
    }
   ],
   "source": [
    "result_df.filter(result_df.year == 2012).select('raceId').show(50)"
   ]
  },
  {
   "cell_type": "code",
   "execution_count": 0,
   "metadata": {
    "application/vnd.databricks.v1+cell": {
     "cellMetadata": {
      "byteLimit": 2048000,
      "rowLimit": 10000
     },
     "inputWidgets": {},
     "nuid": "1a450eda-ab43-43c1-8dd4-95655f0a147e",
     "showTitle": false,
     "title": ""
    }
   },
   "outputs": [
    {
     "output_type": "stream",
     "name": "stdout",
     "output_type": "stream",
     "text": [
      "+--------+------+---------+---------+---------+-----------+----+--------------------+----------+----+--------+------------+-------------+------+-------------+---------------+\n|driverId|raceId|driverRef| forename|  surname|nationality|year|                name|      date|grid|position|positionText|positionOrder|points|per_race_data|per_race_winner|\n+--------+------+---------+---------+---------+-----------+----+--------------------+----------+----+--------+------------+-------------+------+-------------+---------------+\n|      18|   860|   button|   Jenson|   Button|    British|2012|Australian Grand ...|2012-03-18|   2|       1|           1|            1|    25|            1|              1|\n|       4|   861|   alonso| Fernando|   Alonso|    Spanish|2012|Malaysian Grand Prix|2012-03-25|   8|       1|           1|            1|    25|            1|              1|\n|       3|   862|  rosberg|     Nico|  Rosberg|     German|2012|  Chinese Grand Prix|2012-04-15|   1|       1|           1|            1|    25|            1|              1|\n|      20|   863|   vettel|Sebastian|   Vettel|     German|2012|  Bahrain Grand Prix|2012-04-22|   1|       1|           1|            1|    25|            1|              1|\n|     813|   864|maldonado|   Pastor|Maldonado| Venezuelan|2012|  Spanish Grand Prix|2012-05-13|   1|       1|           1|            1|    25|            1|              1|\n|      17|   865|   webber|     Mark|   Webber| Australian|2012|   Monaco Grand Prix|2012-05-27|   1|       1|           1|            1|    25|            1|              1|\n|       1|   866| hamilton|    Lewis| Hamilton|    British|2012| Canadian Grand Prix|2012-06-10|   2|       1|           1|            1|    25|            1|              1|\n|       4|   867|   alonso| Fernando|   Alonso|    Spanish|2012| European Grand Prix|2012-06-24|  11|       1|           1|            1|    25|            1|              1|\n|      17|   868|   webber|     Mark|   Webber| Australian|2012|  British Grand Prix|2012-07-08|   2|       1|           1|            1|    25|            1|              1|\n|       4|   869|   alonso| Fernando|   Alonso|    Spanish|2012|   German Grand Prix|2012-07-22|   1|       1|           1|            1|    25|            1|              1|\n|       1|   870| hamilton|    Lewis| Hamilton|    British|2012|Hungarian Grand Prix|2012-07-29|   1|       1|           1|            1|    25|            1|              1|\n|      18|   871|   button|   Jenson|   Button|    British|2012|  Belgian Grand Prix|2012-09-02|   1|       1|           1|            1|    25|            1|              1|\n|       1|   872| hamilton|    Lewis| Hamilton|    British|2012|  Italian Grand Prix|2012-09-09|   1|       1|           1|            1|    25|            1|              1|\n|      20|   873|   vettel|Sebastian|   Vettel|     German|2012|Singapore Grand Prix|2012-09-23|   3|       1|           1|            1|    25|            1|              1|\n|      20|   874|   vettel|Sebastian|   Vettel|     German|2012| Japanese Grand Prix|2012-10-07|   1|       1|           1|            1|    25|            1|              1|\n|      20|   875|   vettel|Sebastian|   Vettel|     German|2012|   Korean Grand Prix|2012-10-14|   2|       1|           1|            1|    25|            1|              1|\n|      20|   876|   vettel|Sebastian|   Vettel|     German|2012|   Indian Grand Prix|2012-10-28|   1|       1|           1|            1|    25|            1|              1|\n|       8|   877|raikkonen|     Kimi|Räikkönen|    Finnish|2012|Abu Dhabi Grand Prix|2012-11-04|   4|       1|           1|            1|    25|            1|              1|\n|       1|   878| hamilton|    Lewis| Hamilton|    British|2012|United States Gra...|2012-11-18|   2|       1|           1|            1|    25|            1|              1|\n|      18|   879|   button|   Jenson|   Button|    British|2012|Brazilian Grand Prix|2012-11-25|   2|       1|           1|            1|    25|            1|              1|\n+--------+------+---------+---------+---------+-----------+----+--------------------+----------+----+--------+------------+-------------+------+-------------+---------------+\n\n"
     ]
    }
   ],
   "source": [
    "window = Window.partitionBy('raceId').orderBy('date')\n",
    "result_df = result_df.filter(result_df.year == 2012).withColumn(\"per_race_winner\", row_number().over(window))\n",
    "result_df.filter(result_df.per_race_winner == 1).show()"
   ]
  },
  {
   "cell_type": "code",
   "execution_count": 0,
   "metadata": {
    "application/vnd.databricks.v1+cell": {
     "cellMetadata": {},
     "inputWidgets": {},
     "nuid": "c49122ea-d307-4a59-a52d-3125128152e6",
     "showTitle": false,
     "title": ""
    }
   },
   "outputs": [],
   "source": []
  },
  {
   "cell_type": "markdown",
   "metadata": {
    "application/vnd.databricks.v1+cell": {
     "cellMetadata": {
      "byteLimit": 2048000,
      "rowLimit": 10000
     },
     "inputWidgets": {},
     "nuid": "e9c730cc-9768-434f-b2b7-45bfab1c9902",
     "showTitle": false,
     "title": ""
    }
   },
   "source": [
    "What does Spark do when we run the code?\n",
    "\n",
    "It builds a logical execution plan and creates Jobs, Stages and Tasks based on the computations.     \n",
    "1. A job in Spark represents some kind of computation and is triggered when an action is called such as 'count()', 'collect()', 'save()'.      \n",
    "2. Each job is broken down into smaller, manageable units called Stages are created when there is shuffling of data or wide transformations such as 'groupBy()' or 'reduceByKey()'.\n",
    "3. Tasks are the smallest unit of work in Spark. It represents the computation performed on a single partition of the dataset. "
   ]
  },
  {
   "cell_type": "code",
   "execution_count": 0,
   "metadata": {
    "application/vnd.databricks.v1+cell": {
     "cellMetadata": {},
     "inputWidgets": {},
     "nuid": "38797cbe-dd2d-4888-a874-f6c45cbe9806",
     "showTitle": false,
     "title": ""
    }
   },
   "outputs": [],
   "source": []
  }
 ],
 "metadata": {
  "application/vnd.databricks.v1+notebook": {
   "dashboards": [],
   "environmentMetadata": null,
   "language": "python",
   "notebookMetadata": {
    "pythonIndentUnit": 4
   },
   "notebookName": "F1 Data Analysis (1950-2023)",
   "widgets": {}
  }
 },
 "nbformat": 4,
 "nbformat_minor": 0
}
